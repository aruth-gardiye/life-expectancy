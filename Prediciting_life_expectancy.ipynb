{
 "cells": [
  {
   "cell_type": "markdown",
   "metadata": {},
   "source": [
    "<div class=\"alert alert-block alert-info\">\n",
    "    Predicting 'Life expectancy' from The Life Expectancy dataset from the World Health Organization (WHO)<br>\n",
    "    <br>\n",
    "____________________________________________________________________________________\n",
    "</div>"
   ]
  },
  {
   "cell_type": "markdown",
   "metadata": {},
   "source": [
    "<div class=\"alert alert-block alert-info\">\n",
    "    Importing necessary modules\n",
    "</div>"
   ]
  },
  {
   "cell_type": "code",
   "execution_count": 1,
   "metadata": {},
   "outputs": [],
   "source": [
    "import numpy as np\n",
    "import pandas as pd\n",
    "import matplotlib.pyplot as plt\n",
    "import seaborn as sns\n",
    "import os\n",
    "import warnings\n",
    "warnings.filterwarnings('ignore')\n",
    "%matplotlib inline\n"
   ]
  },
  {
   "cell_type": "markdown",
   "metadata": {},
   "source": [
    "<div class=\"alert alert-block alert-info\">\n",
    "    Reading the dataset and printing the first few rows to get an idea about the information\n",
    "</div>"
   ]
  },
  {
   "cell_type": "code",
   "execution_count": 2,
   "metadata": {},
   "outputs": [
    {
     "data": {
      "text/html": [
       "<div>\n",
       "<style scoped>\n",
       "    .dataframe tbody tr th:only-of-type {\n",
       "        vertical-align: middle;\n",
       "    }\n",
       "\n",
       "    .dataframe tbody tr th {\n",
       "        vertical-align: top;\n",
       "    }\n",
       "\n",
       "    .dataframe thead th {\n",
       "        text-align: right;\n",
       "    }\n",
       "</style>\n",
       "<table border=\"1\" class=\"dataframe\">\n",
       "  <thead>\n",
       "    <tr style=\"text-align: right;\">\n",
       "      <th></th>\n",
       "      <th>Country</th>\n",
       "      <th>Year</th>\n",
       "      <th>Status</th>\n",
       "      <th>Life expectancy</th>\n",
       "      <th>Adult Mortality</th>\n",
       "      <th>infant deaths</th>\n",
       "      <th>Alcohol</th>\n",
       "      <th>percentage expenditure</th>\n",
       "      <th>Hepatitis B</th>\n",
       "      <th>Measles</th>\n",
       "      <th>...</th>\n",
       "      <th>Polio</th>\n",
       "      <th>Total expenditure</th>\n",
       "      <th>Diphtheria</th>\n",
       "      <th>HIV/AIDS</th>\n",
       "      <th>GDP</th>\n",
       "      <th>Population</th>\n",
       "      <th>thinness  1-19 years</th>\n",
       "      <th>thinness 5-9 years</th>\n",
       "      <th>Income composition of resources</th>\n",
       "      <th>Schooling</th>\n",
       "    </tr>\n",
       "  </thead>\n",
       "  <tbody>\n",
       "    <tr>\n",
       "      <th>0</th>\n",
       "      <td>Afghanistan</td>\n",
       "      <td>2015</td>\n",
       "      <td>Developing</td>\n",
       "      <td>65.0</td>\n",
       "      <td>263.0</td>\n",
       "      <td>62</td>\n",
       "      <td>0.01</td>\n",
       "      <td>71.279624</td>\n",
       "      <td>65.0</td>\n",
       "      <td>1154</td>\n",
       "      <td>...</td>\n",
       "      <td>6.0</td>\n",
       "      <td>8.16</td>\n",
       "      <td>65.0</td>\n",
       "      <td>0.1</td>\n",
       "      <td>584.259210</td>\n",
       "      <td>33736494.0</td>\n",
       "      <td>17.2</td>\n",
       "      <td>17.3</td>\n",
       "      <td>0.479</td>\n",
       "      <td>10.1</td>\n",
       "    </tr>\n",
       "    <tr>\n",
       "      <th>1</th>\n",
       "      <td>Afghanistan</td>\n",
       "      <td>2014</td>\n",
       "      <td>Developing</td>\n",
       "      <td>59.9</td>\n",
       "      <td>271.0</td>\n",
       "      <td>64</td>\n",
       "      <td>0.01</td>\n",
       "      <td>73.523582</td>\n",
       "      <td>62.0</td>\n",
       "      <td>492</td>\n",
       "      <td>...</td>\n",
       "      <td>58.0</td>\n",
       "      <td>8.18</td>\n",
       "      <td>62.0</td>\n",
       "      <td>0.1</td>\n",
       "      <td>612.696514</td>\n",
       "      <td>327582.0</td>\n",
       "      <td>17.5</td>\n",
       "      <td>17.5</td>\n",
       "      <td>0.476</td>\n",
       "      <td>10.0</td>\n",
       "    </tr>\n",
       "    <tr>\n",
       "      <th>2</th>\n",
       "      <td>Afghanistan</td>\n",
       "      <td>2013</td>\n",
       "      <td>Developing</td>\n",
       "      <td>59.9</td>\n",
       "      <td>268.0</td>\n",
       "      <td>66</td>\n",
       "      <td>0.01</td>\n",
       "      <td>73.219243</td>\n",
       "      <td>64.0</td>\n",
       "      <td>430</td>\n",
       "      <td>...</td>\n",
       "      <td>62.0</td>\n",
       "      <td>8.13</td>\n",
       "      <td>64.0</td>\n",
       "      <td>0.1</td>\n",
       "      <td>631.744976</td>\n",
       "      <td>31731688.0</td>\n",
       "      <td>17.7</td>\n",
       "      <td>17.7</td>\n",
       "      <td>0.470</td>\n",
       "      <td>9.9</td>\n",
       "    </tr>\n",
       "    <tr>\n",
       "      <th>3</th>\n",
       "      <td>Afghanistan</td>\n",
       "      <td>2012</td>\n",
       "      <td>Developing</td>\n",
       "      <td>59.5</td>\n",
       "      <td>272.0</td>\n",
       "      <td>69</td>\n",
       "      <td>0.01</td>\n",
       "      <td>78.184215</td>\n",
       "      <td>67.0</td>\n",
       "      <td>2787</td>\n",
       "      <td>...</td>\n",
       "      <td>67.0</td>\n",
       "      <td>8.52</td>\n",
       "      <td>67.0</td>\n",
       "      <td>0.1</td>\n",
       "      <td>669.959000</td>\n",
       "      <td>3696958.0</td>\n",
       "      <td>17.9</td>\n",
       "      <td>18.0</td>\n",
       "      <td>0.463</td>\n",
       "      <td>9.8</td>\n",
       "    </tr>\n",
       "    <tr>\n",
       "      <th>4</th>\n",
       "      <td>Afghanistan</td>\n",
       "      <td>2011</td>\n",
       "      <td>Developing</td>\n",
       "      <td>59.2</td>\n",
       "      <td>275.0</td>\n",
       "      <td>71</td>\n",
       "      <td>0.01</td>\n",
       "      <td>7.097109</td>\n",
       "      <td>68.0</td>\n",
       "      <td>3013</td>\n",
       "      <td>...</td>\n",
       "      <td>68.0</td>\n",
       "      <td>7.87</td>\n",
       "      <td>68.0</td>\n",
       "      <td>0.1</td>\n",
       "      <td>63.537231</td>\n",
       "      <td>2978599.0</td>\n",
       "      <td>18.2</td>\n",
       "      <td>18.2</td>\n",
       "      <td>0.454</td>\n",
       "      <td>9.5</td>\n",
       "    </tr>\n",
       "  </tbody>\n",
       "</table>\n",
       "<p>5 rows × 22 columns</p>\n",
       "</div>"
      ],
      "text/plain": [
       "       Country  Year      Status  Life expectancy   Adult Mortality  \\\n",
       "0  Afghanistan  2015  Developing              65.0            263.0   \n",
       "1  Afghanistan  2014  Developing              59.9            271.0   \n",
       "2  Afghanistan  2013  Developing              59.9            268.0   \n",
       "3  Afghanistan  2012  Developing              59.5            272.0   \n",
       "4  Afghanistan  2011  Developing              59.2            275.0   \n",
       "\n",
       "   infant deaths  Alcohol  percentage expenditure  Hepatitis B  Measles   ...  \\\n",
       "0             62     0.01               71.279624         65.0      1154  ...   \n",
       "1             64     0.01               73.523582         62.0       492  ...   \n",
       "2             66     0.01               73.219243         64.0       430  ...   \n",
       "3             69     0.01               78.184215         67.0      2787  ...   \n",
       "4             71     0.01                7.097109         68.0      3013  ...   \n",
       "\n",
       "   Polio  Total expenditure  Diphtheria    HIV/AIDS         GDP  Population  \\\n",
       "0    6.0               8.16         65.0        0.1  584.259210  33736494.0   \n",
       "1   58.0               8.18         62.0        0.1  612.696514    327582.0   \n",
       "2   62.0               8.13         64.0        0.1  631.744976  31731688.0   \n",
       "3   67.0               8.52         67.0        0.1  669.959000   3696958.0   \n",
       "4   68.0               7.87         68.0        0.1   63.537231   2978599.0   \n",
       "\n",
       "    thinness  1-19 years   thinness 5-9 years  \\\n",
       "0                   17.2                 17.3   \n",
       "1                   17.5                 17.5   \n",
       "2                   17.7                 17.7   \n",
       "3                   17.9                 18.0   \n",
       "4                   18.2                 18.2   \n",
       "\n",
       "   Income composition of resources  Schooling  \n",
       "0                            0.479       10.1  \n",
       "1                            0.476       10.0  \n",
       "2                            0.470        9.9  \n",
       "3                            0.463        9.8  \n",
       "4                            0.454        9.5  \n",
       "\n",
       "[5 rows x 22 columns]"
      ]
     },
     "execution_count": 2,
     "metadata": {},
     "output_type": "execute_result"
    }
   ],
   "source": [
    "df = pd.read_csv('Life_Expectancy_Data.csv')\n",
    "df.head()"
   ]
  },
  {
   "cell_type": "markdown",
   "metadata": {},
   "source": [
    "<div class=\"alert alert-block alert-success\">\n",
    "    As we can see the 'Life expectancy' is given in the dataset and is a continous variable with numerical values. Due to this our machine learning model should be a regression model with supervised learning.\n",
    "</div>"
   ]
  },
  {
   "cell_type": "markdown",
   "metadata": {},
   "source": [
    "<div class=\"alert alert-block alert-info\">\n",
    "    <h3>Section 01 - Pre-Processing of Data<h3>\n",
    "</div>"
   ]
  },
  {
   "cell_type": "code",
   "execution_count": 3,
   "metadata": {},
   "outputs": [
    {
     "data": {
      "text/plain": [
       "Index(['Country', 'Year', 'Status', 'Life expectancy ', 'Adult Mortality',\n",
       "       'infant deaths', 'Alcohol', 'percentage expenditure', 'Hepatitis B',\n",
       "       'Measles ', ' BMI ', 'under-five deaths ', 'Polio', 'Total expenditure',\n",
       "       'Diphtheria ', ' HIV/AIDS', 'GDP', 'Population',\n",
       "       ' thinness  1-19 years', ' thinness 5-9 years',\n",
       "       'Income composition of resources', 'Schooling'],\n",
       "      dtype='object')"
      ]
     },
     "execution_count": 3,
     "metadata": {},
     "output_type": "execute_result"
    }
   ],
   "source": [
    "# check for errors in column names\n",
    "df.columns"
   ]
  },
  {
   "cell_type": "markdown",
   "metadata": {},
   "source": [
    "<div class=\"alert alert-block alert-warning\">\n",
    "    As we can see some feature columns has errors in their feature names, this should be corrected.\n",
    "</div>"
   ]
  },
  {
   "cell_type": "code",
   "execution_count": 4,
   "metadata": {},
   "outputs": [
    {
     "data": {
      "text/plain": [
       "Index(['Country', 'Year', 'Status', 'Life_expectancy', 'Adult_Mortality',\n",
       "       'Infant_Deaths', 'Alcohol', 'Percentage_Expenditure', 'Hepatitis_B',\n",
       "       'Measles', 'BMI', 'Under_Five_Deaths', 'Polio', 'Total_Expenditure',\n",
       "       'Diphtheria', 'HIV_AIDS', 'GDP', 'Population', 'Thinness_10-19_Years',\n",
       "       'Thinness_5-9_Years', 'Income_Composition_of_Resources', 'Schooling'],\n",
       "      dtype='object')"
      ]
     },
     "execution_count": 4,
     "metadata": {},
     "output_type": "execute_result"
    }
   ],
   "source": [
    "# rename columns to remove spaces\n",
    "df.rename(columns={'Life expectancy ':'Life_expectancy'}, inplace=True)\n",
    "df.rename(columns={'Adult Mortality':'Adult_Mortality'}, inplace=True)\n",
    "df.rename(columns={'infant deaths':'Infant_Deaths'}, inplace=True)\n",
    "df.rename(columns={'percentage expenditure':'Percentage_Expenditure'}, inplace=True)\n",
    "df.rename(columns={'Hepatitis B':'Hepatitis_B'}, inplace=True)\n",
    "df.rename(columns={'Measles ':'Measles'}, inplace=True)\n",
    "df.rename(columns={' BMI ':'BMI'}, inplace=True)\n",
    "df.rename(columns={'under-five deaths ':'Under_Five_Deaths'}, inplace=True)\n",
    "df.rename(columns={'Total expenditure':'Total_Expenditure'}, inplace=True)\n",
    "df.rename(columns={'Diphtheria ':'Diphtheria'}, inplace=True)\n",
    "df.rename(columns={' thinness  1-19 years':'Thinness_10-19_Years'}, inplace=True)\n",
    "df.rename(columns={' thinness 5-9 years':'Thinness_5-9_Years'}, inplace=True)\n",
    "df.rename(columns={'Income composition of resources':'Income_Composition_of_Resources'}, inplace=True)\n",
    "df.rename(columns={' HIV/AIDS':'HIV_AIDS'}, inplace=True)\n",
    "\n",
    "# check for errors in column names\n",
    "df.columns"
   ]
  },
  {
   "cell_type": "markdown",
   "metadata": {},
   "source": [
    "<div class=\"alert alert-block alert-info\">\n",
    "    Now, let us see whether any data in the target has null values\n",
    "</div>"
   ]
  },
  {
   "cell_type": "code",
   "execution_count": 5,
   "metadata": {},
   "outputs": [
    {
     "data": {
      "text/plain": [
       "10"
      ]
     },
     "execution_count": 5,
     "metadata": {},
     "output_type": "execute_result"
    }
   ],
   "source": [
    "# check for missing values in target variable\n",
    "df['Life_expectancy'].isnull().sum()"
   ]
  },
  {
   "cell_type": "markdown",
   "metadata": {},
   "source": [
    "<div class=\"alert alert-block alert-warning\">\n",
    "    There are total of 10 null values, since inplace imputing within target may introduce false information to the data, we go ahead and remove the corresponding rows\n",
    "</div>"
   ]
  },
  {
   "cell_type": "code",
   "execution_count": 6,
   "metadata": {},
   "outputs": [],
   "source": [
    "# drop rows with missing values in target variable\n",
    "df.dropna(subset=['Life_expectancy'], inplace=True)"
   ]
  },
  {
   "cell_type": "markdown",
   "metadata": {},
   "source": [
    "<div class=\"alert alert-block alert-info\">\n",
    "    Splitting data into train and test before carrying out more pre-processing\n",
    "</div>"
   ]
  },
  {
   "cell_type": "code",
   "execution_count": 7,
   "metadata": {},
   "outputs": [],
   "source": [
    "# seperate features and target\n",
    "df_features = df.drop(['Life_expectancy'], axis=1)\n",
    "df_target = df['Life_expectancy']"
   ]
  },
  {
   "cell_type": "code",
   "execution_count": 8,
   "metadata": {},
   "outputs": [
    {
     "data": {
      "text/plain": [
       "Country                             object\n",
       "Year                                 int64\n",
       "Status                              object\n",
       "Adult_Mortality                    float64\n",
       "Infant_Deaths                        int64\n",
       "Alcohol                            float64\n",
       "Percentage_Expenditure             float64\n",
       "Hepatitis_B                        float64\n",
       "Measles                              int64\n",
       "BMI                                float64\n",
       "Under_Five_Deaths                    int64\n",
       "Polio                              float64\n",
       "Total_Expenditure                  float64\n",
       "Diphtheria                         float64\n",
       "HIV_AIDS                           float64\n",
       "GDP                                float64\n",
       "Population                         float64\n",
       "Thinness_10-19_Years               float64\n",
       "Thinness_5-9_Years                 float64\n",
       "Income_Composition_of_Resources    float64\n",
       "Schooling                          float64\n",
       "dtype: object"
      ]
     },
     "execution_count": 8,
     "metadata": {},
     "output_type": "execute_result"
    }
   ],
   "source": [
    "# check types of features\n",
    "df_features.dtypes"
   ]
  },
  {
   "cell_type": "markdown",
   "metadata": {},
   "source": [
    "<div class=\"alert alert-block alert-warning\">\n",
    "    Since the year value has no meaningful information without further info such as months and days, here we convert it to a string feature\n",
    "</div>"
   ]
  },
  {
   "cell_type": "code",
   "execution_count": 9,
   "metadata": {},
   "outputs": [],
   "source": [
    "# convert 'Year' to object\n",
    "df_features['Year'] = df_features['Year'].astype(object)"
   ]
  },
  {
   "cell_type": "markdown",
   "metadata": {},
   "source": [
    "<div class=\"alert alert-block alert-info\">\n",
    "    Checking if any duplicated rows existing within the dataset by arranging the dataset by object type\n",
    "</div>"
   ]
  },
  {
   "cell_type": "code",
   "execution_count": 10,
   "metadata": {},
   "outputs": [
    {
     "name": "stdout",
     "output_type": "stream",
     "text": [
      "There are no duplicate values in the object columns.\n"
     ]
    }
   ],
   "source": [
    "if (df_features.dtypes == 'object').any():\n",
    "    has_duplicates = df_features[df_features.duplicated(keep=False)].shape[0] > 0\n",
    "    if has_duplicates:\n",
    "        print(\"There are duplicate values in the object columns.\")\n",
    "    else:\n",
    "        print(\"There are no duplicate values in the object columns.\")\n",
    "else:\n",
    "    print(\"There are no object columns in the DataFrame.\")"
   ]
  },
  {
   "cell_type": "code",
   "execution_count": 11,
   "metadata": {
    "scrolled": true
   },
   "outputs": [
    {
     "data": {
      "text/plain": [
       "0"
      ]
     },
     "execution_count": 11,
     "metadata": {},
     "output_type": "execute_result"
    }
   ],
   "source": [
    "df_features[df_features.duplicated(keep=False)].shape[0]"
   ]
  },
  {
   "cell_type": "markdown",
   "metadata": {},
   "source": [
    "<div class=\"alert alert-block alert-info\">\n",
    "    Checking unique values within each feature columns\n",
    "</div>"
   ]
  },
  {
   "cell_type": "code",
   "execution_count": 12,
   "metadata": {},
   "outputs": [
    {
     "data": {
      "text/plain": [
       "Country                             183\n",
       "Year                                 16\n",
       "Status                                2\n",
       "Adult_Mortality                     425\n",
       "Infant_Deaths                       209\n",
       "Alcohol                            1076\n",
       "Percentage_Expenditure             2323\n",
       "Hepatitis_B                          87\n",
       "Measles                             958\n",
       "BMI                                 602\n",
       "Under_Five_Deaths                   252\n",
       "Polio                                73\n",
       "Total_Expenditure                   816\n",
       "Diphtheria                           81\n",
       "HIV_AIDS                            200\n",
       "GDP                                2485\n",
       "Population                         2277\n",
       "Thinness_10-19_Years                200\n",
       "Thinness_5-9_Years                  207\n",
       "Income_Composition_of_Resources     625\n",
       "Schooling                           173\n",
       "dtype: int64"
      ]
     },
     "execution_count": 12,
     "metadata": {},
     "output_type": "execute_result"
    }
   ],
   "source": [
    "# count unique values in each column\n",
    "df_features.nunique()"
   ]
  },
  {
   "cell_type": "markdown",
   "metadata": {},
   "source": [
    "<div class=\"alert alert-block alert-info\">\n",
    "    Checking for null values within feature columns\n",
    "</div>"
   ]
  },
  {
   "cell_type": "code",
   "execution_count": 13,
   "metadata": {},
   "outputs": [
    {
     "data": {
      "text/plain": [
       "Country                              0\n",
       "Year                                 0\n",
       "Status                               0\n",
       "Adult_Mortality                      0\n",
       "Infant_Deaths                        0\n",
       "Alcohol                            193\n",
       "Percentage_Expenditure               0\n",
       "Hepatitis_B                        553\n",
       "Measles                              0\n",
       "BMI                                 32\n",
       "Under_Five_Deaths                    0\n",
       "Polio                               19\n",
       "Total_Expenditure                  226\n",
       "Diphtheria                          19\n",
       "HIV_AIDS                             0\n",
       "GDP                                443\n",
       "Population                         644\n",
       "Thinness_10-19_Years                32\n",
       "Thinness_5-9_Years                  32\n",
       "Income_Composition_of_Resources    160\n",
       "Schooling                          160\n",
       "dtype: int64"
      ]
     },
     "execution_count": 13,
     "metadata": {},
     "output_type": "execute_result"
    }
   ],
   "source": [
    "df_features.isna().sum()"
   ]
  },
  {
   "cell_type": "markdown",
   "metadata": {},
   "source": [
    "<div class=\"alert alert-block alert-danger\">\n",
    "    There are a considerable amount of null values present in the feature columns, especially the 'Population' feature.\n",
    "</div>"
   ]
  },
  {
   "cell_type": "markdown",
   "metadata": {},
   "source": [
    "<div class=\"alert alert-block alert-info\">\n",
    "    before dealing with the null values, here we seperate the features into further two sets for feature model training based on imputed values and for features with dropped values\n",
    "</div>"
   ]
  },
  {
   "cell_type": "code",
   "execution_count": 14,
   "metadata": {},
   "outputs": [],
   "source": [
    "# proceeding to split before imputing missing values"
   ]
  },
  {
   "cell_type": "code",
   "execution_count": 15,
   "metadata": {},
   "outputs": [
    {
     "data": {
      "text/plain": [
       "Country                              0\n",
       "Year                                 0\n",
       "Status                               0\n",
       "Adult_Mortality                      0\n",
       "Infant_Deaths                        0\n",
       "Alcohol                            155\n",
       "Percentage_Expenditure               0\n",
       "Hepatitis_B                        444\n",
       "Measles                              0\n",
       "BMI                                 26\n",
       "Under_Five_Deaths                    0\n",
       "Polio                               14\n",
       "Total_Expenditure                  182\n",
       "Diphtheria                          14\n",
       "HIV_AIDS                             0\n",
       "GDP                                347\n",
       "Population                         511\n",
       "Thinness_10-19_Years                26\n",
       "Thinness_5-9_Years                  26\n",
       "Income_Composition_of_Resources    130\n",
       "Schooling                          130\n",
       "dtype: int64"
      ]
     },
     "execution_count": 15,
     "metadata": {},
     "output_type": "execute_result"
    }
   ],
   "source": [
    "# split data into train and test sets\n",
    "from sklearn.model_selection import train_test_split\n",
    "X_train, X_test, y_train, y_test = train_test_split(df_features, df_target, test_size=0.2, random_state=42)\n",
    "\n",
    "# check for null values\n",
    "X_train.isna().sum()"
   ]
  },
  {
   "cell_type": "markdown",
   "metadata": {},
   "source": [
    "<div class=\"alert alert-block alert-info\">\n",
    "    Creating first set by dropping rows with null values\n",
    "</div>"
   ]
  },
  {
   "cell_type": "code",
   "execution_count": 16,
   "metadata": {},
   "outputs": [
    {
     "name": "stdout",
     "output_type": "stream",
     "text": [
      "(2342, 21)\n",
      "(1325, 21)\n"
     ]
    }
   ],
   "source": [
    "# drop rows with missing values\n",
    "X_train_dropped = X_train.dropna()\n",
    "X_test = X_test.dropna()\n",
    "\n",
    "# create target variable for dropped rows\n",
    "y_train_dropped = y_train[X_train_dropped.index]\n",
    "y_test = y_test[X_test.index]\n",
    "\n",
    "# compare the shapes of the original and new dataframes\n",
    "print(X_train.shape)\n",
    "print(X_train_dropped.shape)"
   ]
  },
  {
   "cell_type": "markdown",
   "metadata": {},
   "source": [
    "<div class=\"alert alert-block alert-info\">\n",
    "    Creating second set with imputed values\n",
    "</div>"
   ]
  },
  {
   "cell_type": "code",
   "execution_count": 17,
   "metadata": {},
   "outputs": [
    {
     "name": "stdout",
     "output_type": "stream",
     "text": [
      "(2342, 21)\n",
      "(2342, 21)\n"
     ]
    }
   ],
   "source": [
    "# create another dataframe with imputed values\n",
    "from sklearn.impute import SimpleImputer\n",
    "imputer = SimpleImputer(missing_values=np.nan, strategy='mean')\n",
    "\n",
    "# drop non-numeric columns\n",
    "X_train_numeric = X_train.drop(['Country', 'Year', 'Status'], axis=1)\n",
    "\n",
    "# fit the imputer to the numeric colums\n",
    "imputer.fit(X_train_numeric)\n",
    "\n",
    "# transform and replace the numeric columns\n",
    "X_train_numeric[:] = imputer.transform(X_train_numeric)\n",
    "\n",
    "# convert the imputed result to a dataframe\n",
    "X_train_imputed = pd.DataFrame(X_train_numeric, columns=X_train_numeric.columns)\n",
    "\n",
    "# add back the non-numeric columns to start of dataframe\n",
    "X_train_imputed = pd.concat([X_train[['Country', 'Year', 'Status']], X_train_imputed], axis=1)\n",
    "\n",
    "# compare the shapes of the original and new dataframes\n",
    "print(X_train.shape)\n",
    "print(X_train_imputed.shape)"
   ]
  },
  {
   "cell_type": "code",
   "execution_count": 18,
   "metadata": {},
   "outputs": [
    {
     "data": {
      "text/plain": [
       "Country                            0\n",
       "Year                               0\n",
       "Status                             0\n",
       "Adult_Mortality                    0\n",
       "Infant_Deaths                      0\n",
       "Alcohol                            0\n",
       "Percentage_Expenditure             0\n",
       "Hepatitis_B                        0\n",
       "Measles                            0\n",
       "BMI                                0\n",
       "Under_Five_Deaths                  0\n",
       "Polio                              0\n",
       "Total_Expenditure                  0\n",
       "Diphtheria                         0\n",
       "HIV_AIDS                           0\n",
       "GDP                                0\n",
       "Population                         0\n",
       "Thinness_10-19_Years               0\n",
       "Thinness_5-9_Years                 0\n",
       "Income_Composition_of_Resources    0\n",
       "Schooling                          0\n",
       "dtype: int64"
      ]
     },
     "execution_count": 18,
     "metadata": {},
     "output_type": "execute_result"
    }
   ],
   "source": [
    "# check for missing values\n",
    "X_train_imputed.isna().sum()"
   ]
  },
  {
   "cell_type": "markdown",
   "metadata": {},
   "source": [
    "<div class=\"alert alert-block alert-info\">\n",
    "    Outlier removal comes at an expense since removing certain outliers can affect the distribution of the data and therefore the model. But let's see how it affects the original data by plotting the outlier data and comparing which data points are removed.\n",
    "</div>"
   ]
  },
  {
   "cell_type": "code",
   "execution_count": 19,
   "metadata": {},
   "outputs": [
    {
     "data": {
      "image/png": "[encoded data removed]",
      "text/plain": [
       "<Figure size 640x480 with 1 Axes>"
      ]
     },
     "metadata": {},
     "output_type": "display_data"
    }
   ],
   "source": [
    "def plot_box(df):\n",
    "    sns.boxplot(data=df, showcaps=False, boxprops={\"facecolor\": (.4, .6, .8, .5)}, medianprops={\"color\": \"coral\"}, orient='v')\n",
    "    plt.xticks(rotation=90)\n",
    "    plt.show()\n",
    "\n",
    "# plot without non-numeric columns\n",
    "plot_box(X_train_imputed.drop(['Country', 'Status', 'Year'], axis=1))"
   ]
  },
  {
   "cell_type": "markdown",
   "metadata": {},
   "source": [
    "<div class=\"alert alert-block alert-warning\">\n",
    "    as we can see the population has the furthest outliers compared to other features, Let us alos plot without the 'population' feature to visualize any other feature outliers\n",
    "</div>"
   ]
  },
  {
   "cell_type": "code",
   "execution_count": 20,
   "metadata": {},
   "outputs": [
    {
     "data": {
      "image/png": "[encoded data removed]",
      "text/plain": [
       "<Figure size 640x480 with 1 Axes>"
      ]
     },
     "metadata": {},
     "output_type": "display_data"
    }
   ],
   "source": [
    "# plot without non-numeric columns and 'Population'\n",
    "plot_box(X_train_imputed.drop(['Country', 'Status', 'Year', 'Population'], axis=1))"
   ]
  },
  {
   "cell_type": "markdown",
   "metadata": {},
   "source": [
    "<div class=\"alert alert-block alert-warning\">\n",
    "    There are considerable outliers present in 'Measels' and 'GDP' features\n",
    "</div>"
   ]
  },
  {
   "cell_type": "markdown",
   "metadata": {},
   "source": [
    "<div class=\"alert alert-block alert-info\">\n",
    "    Using Interquartile Range formula to deal with outliers\n",
    "</div>"
   ]
  },
  {
   "cell_type": "code",
   "execution_count": 21,
   "metadata": {},
   "outputs": [],
   "source": [
    "def remove_outliers(data, col_name):\n",
    "    percentile25 = data[col_name].quantile(0.25)\n",
    "    percentile75 = data[col_name].quantile(0.75)\n",
    "    \n",
    "    iqr = percentile75 - percentile25\n",
    "    \n",
    "    upper_limit = percentile75 + 1.5 * iqr\n",
    "    lower_limit = percentile25 - 1.5 * iqr\n",
    "    \n",
    "    data[data[col_name] > upper_limit]\n",
    "    data[data[col_name] < lower_limit]\n",
    "    \n",
    "    data = data[data[col_name] < upper_limit]\n",
    "    \n",
    "    return data"
   ]
  },
  {
   "cell_type": "code",
   "execution_count": 22,
   "metadata": {},
   "outputs": [
    {
     "data": {
      "text/plain": [
       "array([], dtype=object)"
      ]
     },
     "execution_count": 22,
     "metadata": {},
     "output_type": "execute_result"
    }
   ],
   "source": [
    "X_train_imputed_outlier_removed = remove_outliers(X_train_imputed, 'Population')\n",
    "X_train_imputed[~X_train_imputed['Country'].isin(X_train_imputed_outlier_removed['Country'])]['Country'].unique()"
   ]
  },
  {
   "cell_type": "code",
   "execution_count": 23,
   "metadata": {},
   "outputs": [
    {
     "data": {
      "text/plain": [
       "array([], dtype=object)"
      ]
     },
     "execution_count": 23,
     "metadata": {},
     "output_type": "execute_result"
    }
   ],
   "source": [
    "X_train_imputed_outlier_removed = remove_outliers(X_train_imputed, 'GDP')\n",
    "X_train_imputed[~X_train_imputed['Country'].isin(X_train_imputed_outlier_removed['Country'])]['Country'].unique()"
   ]
  },
  {
   "cell_type": "code",
   "execution_count": 24,
   "metadata": {},
   "outputs": [
    {
     "data": {
      "text/plain": [
       "array(['China', 'India', 'Indonesia'], dtype=object)"
      ]
     },
     "execution_count": 24,
     "metadata": {},
     "output_type": "execute_result"
    }
   ],
   "source": [
    "X_train_imputed_outlier_removed = remove_outliers(X_train_imputed, 'Measles')\n",
    "X_train_imputed[~X_train_imputed['Country'].isin(X_train_imputed_outlier_removed['Country'])]['Country'].unique()"
   ]
  },
  {
   "cell_type": "markdown",
   "metadata": {},
   "source": [
    "<div class=\"alert alert-block alert-warning\">\n",
    " As we can see removing outlier in the 'Measels' feature has an effect on 'Country' feature, thus the outlier removals will be only be carried out on 'Population' and 'GDP' features.\n",
    "</div>"
   ]
  },
  {
   "cell_type": "code",
   "execution_count": 25,
   "metadata": {},
   "outputs": [
    {
     "name": "stdout",
     "output_type": "stream",
     "text": [
      "(2342, 21)\n",
      "(1966, 21)\n"
     ]
    },
    {
     "data": {
      "text/plain": [
       "array([], dtype=object)"
      ]
     },
     "execution_count": 25,
     "metadata": {},
     "output_type": "execute_result"
    }
   ],
   "source": [
    "X_train_imputed_outlier_removed = remove_outliers(X_train_imputed, 'Population')\n",
    "X_train_imputed_outlier_removed = remove_outliers(X_train_imputed_outlier_removed, 'GDP')\n",
    "y_train = y_train[X_train_imputed_outlier_removed.index]\n",
    "print(X_train_imputed.shape)\n",
    "print(X_train_imputed_outlier_removed.shape)\n",
    "X_train_imputed[~X_train_imputed['Country'].isin(X_train_imputed_outlier_removed['Country'])]['Country'].unique()"
   ]
  },
  {
   "cell_type": "markdown",
   "metadata": {},
   "source": [
    "<div class=\"alert alert-block alert-info\">\n",
    " Carrying out the same outlier removal process for dropeed set as well\n",
    "</div>"
   ]
  },
  {
   "cell_type": "code",
   "execution_count": 26,
   "metadata": {},
   "outputs": [
    {
     "data": {
      "image/png": "[encoded data removed]",
      "text/plain": [
       "<Figure size 640x480 with 1 Axes>"
      ]
     },
     "metadata": {},
     "output_type": "display_data"
    }
   ],
   "source": [
    "plot_box(X_train_dropped.drop(['Country', 'Status', 'Year', 'Population'], axis=1))"
   ]
  },
  {
   "cell_type": "code",
   "execution_count": 27,
   "metadata": {},
   "outputs": [
    {
     "name": "stdout",
     "output_type": "stream",
     "text": [
      "(1325, 21)\n",
      "(1143, 21)\n"
     ]
    },
    {
     "data": {
      "text/plain": [
       "array([], dtype=object)"
      ]
     },
     "execution_count": 27,
     "metadata": {},
     "output_type": "execute_result"
    }
   ],
   "source": [
    "X_train_dropped_outlier_removed = remove_outliers(X_train_dropped, 'Population')\n",
    "y_train_dropped = y_train_dropped[X_train_dropped_outlier_removed.index]\n",
    "print(X_train_dropped.shape)\n",
    "print(X_train_dropped_outlier_removed.shape)\n",
    "X_train_dropped[~X_train_dropped['Country'].isin(X_train_dropped_outlier_removed['Country'])]['Country'].unique()"
   ]
  },
  {
   "cell_type": "markdown",
   "metadata": {},
   "source": [
    "<div class=\"alert alert-block alert-warning\">\n",
    "    Let us now plot the correlation plot to see how the features are correlated with the target variable.\n",
    "</div>"
   ]
  },
  {
   "cell_type": "code",
   "execution_count": 28,
   "metadata": {},
   "outputs": [
    {
     "data": {
      "image/png": "[encoded data removed]",
      "text/plain": [
       "<Figure size 800x600 with 2 Axes>"
      ]
     },
     "metadata": {},
     "output_type": "display_data"
    },
    {
     "data": {
      "image/png": "[encoded data removed]",
      "text/plain": [
       "<Figure size 800x600 with 2 Axes>"
      ]
     },
     "metadata": {},
     "output_type": "display_data"
    }
   ],
   "source": [
    "def plot_correlation(df_target, df_features, df_name, threshold=0.0):\n",
    "    # calculate the correlation matrix\n",
    "    corr = df_features.corrwith(df_target)\n",
    "\n",
    "    # identify highly correlated features\n",
    "    highly_correlated = (corr.abs() > threshold) & (corr.abs() < 1.0)\n",
    "    highly_correlated_cols = corr[highly_correlated].sort_values(ascending=False).index.tolist()\n",
    "\n",
    "    # plot the correlation heatmap\n",
    "    sns.set(style=\"white\")\n",
    "    f, ax = plt.subplots(figsize=(8, 6))\n",
    "    sns.heatmap(corr[highly_correlated_cols].to_frame(), cmap=sns.diverging_palette(230, 20, as_cmap=True),\n",
    "                center=0, square=True, linewidths=.5, cbar_kws={\"shrink\": .5},\n",
    "                annot=True, fmt=\".1f\", annot_kws={\"size\": 8},\n",
    "                xticklabels=[df_name], yticklabels=highly_correlated_cols)\n",
    "    plt.xticks(fontsize=8)\n",
    "    plt.yticks(fontsize=8)\n",
    "    \n",
    "plot_correlation(y_train_dropped, X_train_dropped_outlier_removed, \"Correlation Heatmap for df with null removed\")\n",
    "plot_correlation(y_train, X_train_imputed_outlier_removed, \"Correlation Heatmap for df with imputed values\")"
   ]
  },
  {
   "cell_type": "markdown",
   "metadata": {},
   "source": [
    "<div class=\"alert alert-block alert-info\">\n",
    "    According to the plots, we can see that the 'Schooling', 'Income composition of resources', 'Adult Mortality', 'HIV/AIDS' and 'BMI' features are highly correlated with the target variable 'Life expectancy'. We can also see that the 'Population' and 'GDP' features are not correlated with the target variable.\n",
    "</div>"
   ]
  },
  {
   "cell_type": "markdown",
   "metadata": {},
   "source": [
    "<div class=\"alert alert-block alert-info\">\n",
    "    We will remove features with low correlation with the target variable.\n",
    "</div>"
   ]
  },
  {
   "cell_type": "code",
   "execution_count": 29,
   "metadata": {},
   "outputs": [
    {
     "data": {
      "image/png": "[encoded data removed]",
      "text/plain": [
       "<Figure size 800x600 with 2 Axes>"
      ]
     },
     "metadata": {},
     "output_type": "display_data"
    },
    {
     "data": {
      "image/png": "[encoded data removed]",
      "text/plain": [
       "<Figure size 800x600 with 2 Axes>"
      ]
     },
     "metadata": {},
     "output_type": "display_data"
    }
   ],
   "source": [
    "X_train_dropped_outlier_removed_correlated = X_train_dropped_outlier_removed.drop(['Population', 'Measles', 'Infant_Deaths', 'Under_Five_Deaths', 'Total_Expenditure', 'Hepatitis_B', 'Percentage_Expenditure', 'GDP', 'Alcohol', 'Polio', 'Diphtheria'], axis=1)\n",
    "X_train_imputed_outlier_removed_correlated = X_train_imputed_outlier_removed.drop(['Population', 'Measles', 'Infant_Deaths', 'Under_Five_Deaths', 'Total_Expenditure', 'Hepatitis_B', 'Percentage_Expenditure', 'GDP', 'Alcohol', 'Polio', 'Diphtheria'], axis=1)\n",
    "X_test = X_test.drop(['Population', 'Measles', 'Infant_Deaths', 'Under_Five_Deaths', 'Total_Expenditure', 'Hepatitis_B', 'Percentage_Expenditure', 'GDP', 'Alcohol', 'Polio', 'Diphtheria'], axis=1)\n",
    "\n",
    "plot_correlation(y_train_dropped, X_train_dropped_outlier_removed_correlated, \"Correlation Heatmap for df with null removed\")\n",
    "plot_correlation(y_train, X_train_imputed_outlier_removed_correlated, \"Correlation Heatmap for df with imputed values\")"
   ]
  },
  {
   "cell_type": "markdown",
   "metadata": {},
   "source": [
    "<div class=\"alert alert-block alert-info\">\n",
    "  Here we standardize the data and categorical encode the string data\n",
    "</div>"
   ]
  },
  {
   "cell_type": "code",
   "execution_count": 30,
   "metadata": {},
   "outputs": [
    {
     "name": "stdout",
     "output_type": "stream",
     "text": [
      "(1966, 10) (1966,)\n",
      "(1143, 10) (1143,)\n",
      "(324, 10) (324,)\n"
     ]
    }
   ],
   "source": [
    "# standardize and label encode the data\n",
    "from sklearn.preprocessing import StandardScaler\n",
    "from sklearn.preprocessing import LabelEncoder\n",
    "\n",
    "# seperate non-categorical features\n",
    "X_train_imputed_outlier_removed_correlated_non_categorical = X_train_imputed_outlier_removed_correlated.drop(['Country', 'Status', 'Year'], axis=1)\n",
    "X_train_dropped_outlier_removed_correlated_non_categorical = X_train_dropped_outlier_removed_correlated.drop(['Country', 'Status', 'Year'], axis=1)\n",
    "\n",
    "# standardize non-categorical features\n",
    "scaler = StandardScaler()\n",
    "X_train_imputed_outlier_removed_correlated_non_categorical_scaled = scaler.fit_transform(X_train_imputed_outlier_removed_correlated_non_categorical)\n",
    "X_train_dropped_outlier_removed_correlated_non_categorical_scaled = scaler.fit_transform(X_train_dropped_outlier_removed_correlated_non_categorical)\n",
    "\n",
    "# label encode categorical features\n",
    "le = LabelEncoder()\n",
    "X_train_imputed_outlier_removed_correlated_categorical = X_train_imputed_outlier_removed_correlated[['Country', 'Status', 'Year']].apply(le.fit_transform)\n",
    "X_train_dropped_outlier_removed_correlated_categorical = X_train_dropped_outlier_removed_correlated[['Country', 'Status', 'Year']].apply(le.fit_transform)\n",
    "\n",
    "# combine categorical and non-categorical features\n",
    "X_train_imputed_outlier_removed_correlated_scaled = np.concatenate((X_train_imputed_outlier_removed_correlated_categorical, X_train_imputed_outlier_removed_correlated_non_categorical_scaled), axis=1)\n",
    "X_train_dropped_outlier_removed_correlated_scaled = np.concatenate((X_train_dropped_outlier_removed_correlated_categorical, X_train_dropped_outlier_removed_correlated_non_categorical_scaled), axis=1)\n",
    "\n",
    "# create a dataframe with the standardized and label encoded data\n",
    "X_train_iocs = pd.DataFrame(X_train_imputed_outlier_removed_correlated_scaled, columns=X_train_imputed_outlier_removed_correlated.columns)\n",
    "X_train_docs = pd.DataFrame(X_train_dropped_outlier_removed_correlated_scaled, columns=X_train_dropped_outlier_removed_correlated.columns)\n",
    "\n",
    "# standardize and label encode the test data\n",
    "X_test_non_categorical = X_test.drop(['Country', 'Status', 'Year'], axis=1)\n",
    "X_test_non_categorical_scaled = scaler.transform(X_test_non_categorical)\n",
    "X_test_categorical = X_test[['Country', 'Status', 'Year']].apply(le.transform)\n",
    "X_test_scaled = np.concatenate((X_test_categorical, X_test_non_categorical_scaled), axis=1)\n",
    "X_test_s = pd.DataFrame(X_test_scaled, columns=X_test.columns)\n",
    "\n",
    "# print shape of dataframes against target\n",
    "print(X_train_iocs.shape, y_train.shape)\n",
    "print(X_train_docs.shape, y_train_dropped.shape)\n",
    "print(X_test_s.shape, y_test.shape)"
   ]
  },
  {
   "cell_type": "markdown",
   "metadata": {},
   "source": [
    "<div class=\"alert alert-block alert-info\">\n",
    "    <h2>Pre-processed testing and training pairs of the dataset</h2>\n",
    "    Here we list the pre-processed testing and training pairs of the dataset that can be used for analysis\n",
    "</div>"
   ]
  },
  {
   "cell_type": "markdown",
   "metadata": {},
   "source": [
    "<div class=\"alert alert-block alert-success\">\n",
    "    Imputed\n",
    "    <blockquote>\n",
    "    X_train_iocs<br>\n",
    "    y_train<br>\n",
    "    </blockquote>\n",
    "   <br>\n",
    "   <br>\n",
    "    Dropped\n",
    "    <blockquote>\n",
    "    X_train_docs<br>\n",
    "    y_train_dropped\n",
    "    </blockquote>\n",
    "   <br>\n",
    "   <br>\n",
    "    Testing\n",
    "    <blockquote>\n",
    "    X_test_s<br>\n",
    "    y_test\n",
    "    </blockquote>\n",
    "</div>"
   ]
  },
  {
   "cell_type": "markdown",
   "metadata": {},
   "source": [
    "<div class=\"alert alert-block alert-info\">\n",
    " Visualising train and test sets\n",
    "</div>"
   ]
  },
  {
   "cell_type": "code",
   "execution_count": 31,
   "metadata": {},
   "outputs": [
    {
     "data": {
      "text/html": [
       "<div>\n",
       "<style scoped>\n",
       "    .dataframe tbody tr th:only-of-type {\n",
       "        vertical-align: middle;\n",
       "    }\n",
       "\n",
       "    .dataframe tbody tr th {\n",
       "        vertical-align: top;\n",
       "    }\n",
       "\n",
       "    .dataframe thead th {\n",
       "        text-align: right;\n",
       "    }\n",
       "</style>\n",
       "<table border=\"1\" class=\"dataframe\">\n",
       "  <thead>\n",
       "    <tr style=\"text-align: right;\">\n",
       "      <th></th>\n",
       "      <th>Country</th>\n",
       "      <th>Year</th>\n",
       "      <th>Status</th>\n",
       "      <th>Adult_Mortality</th>\n",
       "      <th>BMI</th>\n",
       "      <th>HIV_AIDS</th>\n",
       "      <th>Thinness_10-19_Years</th>\n",
       "      <th>Thinness_5-9_Years</th>\n",
       "      <th>Income_Composition_of_Resources</th>\n",
       "      <th>Schooling</th>\n",
       "    </tr>\n",
       "  </thead>\n",
       "  <tbody>\n",
       "    <tr>\n",
       "      <th>0</th>\n",
       "      <td>141.0</td>\n",
       "      <td>1.0</td>\n",
       "      <td>12.0</td>\n",
       "      <td>-0.406347</td>\n",
       "      <td>1.106079</td>\n",
       "      <td>-0.344275</td>\n",
       "      <td>-0.704048</td>\n",
       "      <td>-0.701454</td>\n",
       "      <td>0.847759</td>\n",
       "      <td>0.780385</td>\n",
       "    </tr>\n",
       "    <tr>\n",
       "      <th>1</th>\n",
       "      <td>104.0</td>\n",
       "      <td>1.0</td>\n",
       "      <td>2.0</td>\n",
       "      <td>0.012638</td>\n",
       "      <td>-0.518858</td>\n",
       "      <td>-0.344275</td>\n",
       "      <td>0.667621</td>\n",
       "      <td>0.642341</td>\n",
       "      <td>0.424336</td>\n",
       "      <td>0.296469</td>\n",
       "    </tr>\n",
       "    <tr>\n",
       "      <th>2</th>\n",
       "      <td>173.0</td>\n",
       "      <td>1.0</td>\n",
       "      <td>8.0</td>\n",
       "      <td>1.569998</td>\n",
       "      <td>-0.865240</td>\n",
       "      <td>0.990508</td>\n",
       "      <td>0.525724</td>\n",
       "      <td>0.503328</td>\n",
       "      <td>0.141860</td>\n",
       "      <td>0.135675</td>\n",
       "    </tr>\n",
       "    <tr>\n",
       "      <th>3</th>\n",
       "      <td>68.0</td>\n",
       "      <td>1.0</td>\n",
       "      <td>15.0</td>\n",
       "      <td>0.771555</td>\n",
       "      <td>-0.523952</td>\n",
       "      <td>0.222551</td>\n",
       "      <td>0.478425</td>\n",
       "      <td>0.433821</td>\n",
       "      <td>-0.896341</td>\n",
       "      <td>-0.768146</td>\n",
       "    </tr>\n",
       "    <tr>\n",
       "      <th>4</th>\n",
       "      <td>115.0</td>\n",
       "      <td>0.0</td>\n",
       "      <td>9.0</td>\n",
       "      <td>-0.825332</td>\n",
       "      <td>1.411710</td>\n",
       "      <td>-0.344275</td>\n",
       "      <td>-1.129739</td>\n",
       "      <td>-1.118495</td>\n",
       "      <td>1.492976</td>\n",
       "      <td>2.490222</td>\n",
       "    </tr>\n",
       "  </tbody>\n",
       "</table>\n",
       "</div>"
      ],
      "text/plain": [
       "   Country  Year  Status  Adult_Mortality       BMI  HIV_AIDS  \\\n",
       "0    141.0   1.0    12.0        -0.406347  1.106079 -0.344275   \n",
       "1    104.0   1.0     2.0         0.012638 -0.518858 -0.344275   \n",
       "2    173.0   1.0     8.0         1.569998 -0.865240  0.990508   \n",
       "3     68.0   1.0    15.0         0.771555 -0.523952  0.222551   \n",
       "4    115.0   0.0     9.0        -0.825332  1.411710 -0.344275   \n",
       "\n",
       "   Thinness_10-19_Years  Thinness_5-9_Years  Income_Composition_of_Resources  \\\n",
       "0             -0.704048           -0.701454                         0.847759   \n",
       "1              0.667621            0.642341                         0.424336   \n",
       "2              0.525724            0.503328                         0.141860   \n",
       "3              0.478425            0.433821                        -0.896341   \n",
       "4             -1.129739           -1.118495                         1.492976   \n",
       "\n",
       "   Schooling  \n",
       "0   0.780385  \n",
       "1   0.296469  \n",
       "2   0.135675  \n",
       "3  -0.768146  \n",
       "4   2.490222  "
      ]
     },
     "execution_count": 31,
     "metadata": {},
     "output_type": "execute_result"
    }
   ],
   "source": [
    "X_train_iocs.head()"
   ]
  },
  {
   "cell_type": "code",
   "execution_count": 32,
   "metadata": {},
   "outputs": [
    {
     "data": {
      "text/html": [
       "<div>\n",
       "<style scoped>\n",
       "    .dataframe tbody tr th:only-of-type {\n",
       "        vertical-align: middle;\n",
       "    }\n",
       "\n",
       "    .dataframe tbody tr th {\n",
       "        vertical-align: top;\n",
       "    }\n",
       "\n",
       "    .dataframe thead th {\n",
       "        text-align: right;\n",
       "    }\n",
       "</style>\n",
       "<table border=\"1\" class=\"dataframe\">\n",
       "  <thead>\n",
       "    <tr style=\"text-align: right;\">\n",
       "      <th></th>\n",
       "      <th>Country</th>\n",
       "      <th>Year</th>\n",
       "      <th>Status</th>\n",
       "      <th>Adult_Mortality</th>\n",
       "      <th>BMI</th>\n",
       "      <th>HIV_AIDS</th>\n",
       "      <th>Thinness_10-19_Years</th>\n",
       "      <th>Thinness_5-9_Years</th>\n",
       "      <th>Income_Composition_of_Resources</th>\n",
       "      <th>Schooling</th>\n",
       "    </tr>\n",
       "  </thead>\n",
       "  <tbody>\n",
       "    <tr>\n",
       "      <th>0</th>\n",
       "      <td>106.0</td>\n",
       "      <td>1.0</td>\n",
       "      <td>12.0</td>\n",
       "      <td>-0.351596</td>\n",
       "      <td>1.002036</td>\n",
       "      <td>-0.318936</td>\n",
       "      <td>-0.606520</td>\n",
       "      <td>-0.615102</td>\n",
       "      <td>0.745702</td>\n",
       "      <td>0.677731</td>\n",
       "    </tr>\n",
       "    <tr>\n",
       "      <th>1</th>\n",
       "      <td>79.0</td>\n",
       "      <td>1.0</td>\n",
       "      <td>2.0</td>\n",
       "      <td>0.066276</td>\n",
       "      <td>-0.619592</td>\n",
       "      <td>-0.318936</td>\n",
       "      <td>0.784446</td>\n",
       "      <td>0.749518</td>\n",
       "      <td>0.301468</td>\n",
       "      <td>0.142384</td>\n",
       "    </tr>\n",
       "    <tr>\n",
       "      <th>2</th>\n",
       "      <td>123.0</td>\n",
       "      <td>1.0</td>\n",
       "      <td>0.0</td>\n",
       "      <td>-0.461977</td>\n",
       "      <td>0.483521</td>\n",
       "      <td>-0.318936</td>\n",
       "      <td>0.472678</td>\n",
       "      <td>0.420127</td>\n",
       "      <td>0.105793</td>\n",
       "      <td>0.249454</td>\n",
       "    </tr>\n",
       "    <tr>\n",
       "      <th>3</th>\n",
       "      <td>127.0</td>\n",
       "      <td>1.0</td>\n",
       "      <td>11.0</td>\n",
       "      <td>-1.155802</td>\n",
       "      <td>1.037620</td>\n",
       "      <td>-0.303331</td>\n",
       "      <td>-0.534574</td>\n",
       "      <td>-0.520990</td>\n",
       "      <td>0.571181</td>\n",
       "      <td>0.998939</td>\n",
       "    </tr>\n",
       "    <tr>\n",
       "      <th>4</th>\n",
       "      <td>117.0</td>\n",
       "      <td>1.0</td>\n",
       "      <td>13.0</td>\n",
       "      <td>-0.059874</td>\n",
       "      <td>0.020925</td>\n",
       "      <td>-0.303331</td>\n",
       "      <td>-0.246788</td>\n",
       "      <td>-0.238655</td>\n",
       "      <td>-0.047573</td>\n",
       "      <td>-0.321583</td>\n",
       "    </tr>\n",
       "  </tbody>\n",
       "</table>\n",
       "</div>"
      ],
      "text/plain": [
       "   Country  Year  Status  Adult_Mortality       BMI  HIV_AIDS  \\\n",
       "0    106.0   1.0    12.0        -0.351596  1.002036 -0.318936   \n",
       "1     79.0   1.0     2.0         0.066276 -0.619592 -0.318936   \n",
       "2    123.0   1.0     0.0        -0.461977  0.483521 -0.318936   \n",
       "3    127.0   1.0    11.0        -1.155802  1.037620 -0.303331   \n",
       "4    117.0   1.0    13.0        -0.059874  0.020925 -0.303331   \n",
       "\n",
       "   Thinness_10-19_Years  Thinness_5-9_Years  Income_Composition_of_Resources  \\\n",
       "0             -0.606520           -0.615102                         0.745702   \n",
       "1              0.784446            0.749518                         0.301468   \n",
       "2              0.472678            0.420127                         0.105793   \n",
       "3             -0.534574           -0.520990                         0.571181   \n",
       "4             -0.246788           -0.238655                        -0.047573   \n",
       "\n",
       "   Schooling  \n",
       "0   0.677731  \n",
       "1   0.142384  \n",
       "2   0.249454  \n",
       "3   0.998939  \n",
       "4  -0.321583  "
      ]
     },
     "execution_count": 32,
     "metadata": {},
     "output_type": "execute_result"
    }
   ],
   "source": [
    "X_train_docs.head()"
   ]
  },
  {
   "cell_type": "code",
   "execution_count": 33,
   "metadata": {},
   "outputs": [
    {
     "data": {
      "text/html": [
       "<div>\n",
       "<style scoped>\n",
       "    .dataframe tbody tr th:only-of-type {\n",
       "        vertical-align: middle;\n",
       "    }\n",
       "\n",
       "    .dataframe tbody tr th {\n",
       "        vertical-align: top;\n",
       "    }\n",
       "\n",
       "    .dataframe thead th {\n",
       "        text-align: right;\n",
       "    }\n",
       "</style>\n",
       "<table border=\"1\" class=\"dataframe\">\n",
       "  <thead>\n",
       "    <tr style=\"text-align: right;\">\n",
       "      <th></th>\n",
       "      <th>Country</th>\n",
       "      <th>Year</th>\n",
       "      <th>Status</th>\n",
       "      <th>Adult_Mortality</th>\n",
       "      <th>BMI</th>\n",
       "      <th>HIV_AIDS</th>\n",
       "      <th>Thinness_10-19_Years</th>\n",
       "      <th>Thinness_5-9_Years</th>\n",
       "      <th>Income_Composition_of_Resources</th>\n",
       "      <th>Schooling</th>\n",
       "    </tr>\n",
       "  </thead>\n",
       "  <tbody>\n",
       "    <tr>\n",
       "      <th>0</th>\n",
       "      <td>100.0</td>\n",
       "      <td>1.0</td>\n",
       "      <td>9.0</td>\n",
       "      <td>2.325799</td>\n",
       "      <td>0.426051</td>\n",
       "      <td>3.330096</td>\n",
       "      <td>0.693294</td>\n",
       "      <td>1.040357</td>\n",
       "      <td>-0.096427</td>\n",
       "      <td>0.249794</td>\n",
       "    </tr>\n",
       "    <tr>\n",
       "      <th>1</th>\n",
       "      <td>9.0</td>\n",
       "      <td>1.0</td>\n",
       "      <td>11.0</td>\n",
       "      <td>-1.198533</td>\n",
       "      <td>-1.139975</td>\n",
       "      <td>-0.276266</td>\n",
       "      <td>2.941899</td>\n",
       "      <td>3.016600</td>\n",
       "      <td>-0.524024</td>\n",
       "      <td>-0.968323</td>\n",
       "    </tr>\n",
       "    <tr>\n",
       "      <th>2</th>\n",
       "      <td>74.0</td>\n",
       "      <td>1.0</td>\n",
       "      <td>12.0</td>\n",
       "      <td>-1.222839</td>\n",
       "      <td>-1.631277</td>\n",
       "      <td>-0.276266</td>\n",
       "      <td>-0.621928</td>\n",
       "      <td>-0.620528</td>\n",
       "      <td>0.875385</td>\n",
       "      <td>1.073814</td>\n",
       "    </tr>\n",
       "    <tr>\n",
       "      <th>3</th>\n",
       "      <td>50.0</td>\n",
       "      <td>1.0</td>\n",
       "      <td>7.0</td>\n",
       "      <td>-1.101310</td>\n",
       "      <td>-1.211623</td>\n",
       "      <td>-0.238104</td>\n",
       "      <td>4.723813</td>\n",
       "      <td>4.866700</td>\n",
       "      <td>-0.518471</td>\n",
       "      <td>-0.789188</td>\n",
       "    </tr>\n",
       "    <tr>\n",
       "      <th>4</th>\n",
       "      <td>15.0</td>\n",
       "      <td>1.0</td>\n",
       "      <td>13.0</td>\n",
       "      <td>-1.239042</td>\n",
       "      <td>0.850823</td>\n",
       "      <td>-0.276266</td>\n",
       "      <td>-0.515862</td>\n",
       "      <td>-0.515409</td>\n",
       "      <td>0.531086</td>\n",
       "      <td>0.751371</td>\n",
       "    </tr>\n",
       "  </tbody>\n",
       "</table>\n",
       "</div>"
      ],
      "text/plain": [
       "   Country  Year  Status  Adult_Mortality       BMI  HIV_AIDS  \\\n",
       "0    100.0   1.0     9.0         2.325799  0.426051  3.330096   \n",
       "1      9.0   1.0    11.0        -1.198533 -1.139975 -0.276266   \n",
       "2     74.0   1.0    12.0        -1.222839 -1.631277 -0.276266   \n",
       "3     50.0   1.0     7.0        -1.101310 -1.211623 -0.238104   \n",
       "4     15.0   1.0    13.0        -1.239042  0.850823 -0.276266   \n",
       "\n",
       "   Thinness_10-19_Years  Thinness_5-9_Years  Income_Composition_of_Resources  \\\n",
       "0              0.693294            1.040357                        -0.096427   \n",
       "1              2.941899            3.016600                        -0.524024   \n",
       "2             -0.621928           -0.620528                         0.875385   \n",
       "3              4.723813            4.866700                        -0.518471   \n",
       "4             -0.515862           -0.515409                         0.531086   \n",
       "\n",
       "   Schooling  \n",
       "0   0.249794  \n",
       "1  -0.968323  \n",
       "2   1.073814  \n",
       "3  -0.789188  \n",
       "4   0.751371  "
      ]
     },
     "execution_count": 33,
     "metadata": {},
     "output_type": "execute_result"
    }
   ],
   "source": [
    "X_test_s.head()"
   ]
  },
  {
   "cell_type": "markdown",
   "metadata": {},
   "source": [
    "<div class=\"alert alert-block alert-info\">\n",
    "    <h3>Section 02 - Modeling<h3>\n",
    "</div>"
   ]
  },
  {
   "cell_type": "markdown",
   "metadata": {},
   "source": [
    "<div class=\"alert alert-block alert-info\">\n",
    "  For the initial model, we are using Linear Regression model to predict and meassure the accuracy using R2 score\n",
    "</div>"
   ]
  },
  {
   "cell_type": "code",
   "execution_count": 53,
   "metadata": {},
   "outputs": [
    {
     "name": "stdout",
     "output_type": "stream",
     "text": [
      "LR - R2 score for test using \u001b[4mimputed\u001b[0m and outlier removed data:  0.7546659020624065\n",
      "LR - R2 score for test using \u001b[4mdropped\u001b[0m and outlier removed data:  0.8101681926388482\n"
     ]
    }
   ],
   "source": [
    "# Linear Regression\n",
    "from sklearn.linear_model import LinearRegression\n",
    "from sklearn.metrics import r2_score\n",
    "\n",
    "# imputed\n",
    "lr = LinearRegression()\n",
    "lr.fit(X_train_iocs, y_train)\n",
    "\n",
    "y_pred = lr.predict(X_test_s)\n",
    "\n",
    "r2_score(y_test, y_pred)\n",
    "print(\"LR - R2 score for test using \\033[4mimputed\\033[0m and outlier removed data: \", r2_score(y_test, y_pred))\n",
    "\n",
    "\n",
    "# dropped\n",
    "lr = LinearRegression()\n",
    "lr.fit(X_train_docs, y_train_dropped)\n",
    "\n",
    "y_pred = lr.predict(X_test_s)\n",
    "\n",
    "print(\"LR - R2 score for test using \\033[4mdropped\\033[0m and outlier removed data: \", r2_score(y_test, y_pred))"
   ]
  },
  {
   "cell_type": "markdown",
   "metadata": {},
   "source": [
    "<div class=\"alert alert-block alert-success\">\n",
    " As we can see the Linear Regression model achieves higher R2 score on the set with dropped null values compared to the imputed set\n",
    "</div>"
   ]
  },
  {
   "cell_type": "markdown",
   "metadata": {},
   "source": [
    "<div class=\"alert alert-block alert-info\">\n",
    " Second model with Random Forest Regressor\n",
    "</div>"
   ]
  },
  {
   "cell_type": "code",
   "execution_count": 54,
   "metadata": {},
   "outputs": [
    {
     "name": "stdout",
     "output_type": "stream",
     "text": [
      "RF - R2 score for test using \u001b[4mimputed\u001b[0m and outlier removed data:  0.8806913293659521\n",
      "RF - R2 score for test using \u001b[4mdropped\u001b[0m and outlier removed data:  0.9351579496457224\n"
     ]
    }
   ],
   "source": [
    "# Random Forest Regressor\n",
    "from sklearn.ensemble import RandomForestRegressor\n",
    "\n",
    "# imputed\n",
    "rf = RandomForestRegressor(n_estimators=100, random_state=42, max_depth=10)\n",
    "rf.fit(X_train_iocs, y_train)\n",
    "\n",
    "y_pred = rf.predict(X_test_s)\n",
    "\n",
    "r2_score(y_test, y_pred)\n",
    "print(\"RF - R2 score for test using \\033[4mimputed\\033[0m and outlier removed data: \", r2_score(y_test, y_pred))\n",
    "\n",
    "\n",
    "# dropped\n",
    "rf = RandomForestRegressor(n_estimators=100, random_state=42, max_depth=10)\n",
    "rf.fit(X_train_docs, y_train_dropped)\n",
    "\n",
    "y_pred = rf.predict(X_test_s)\n",
    "\n",
    "print(\"RF - R2 score for test using \\033[4mdropped\\033[0m and outlier removed data: \", r2_score(y_test, y_pred))"
   ]
  },
  {
   "cell_type": "markdown",
   "metadata": {},
   "source": [
    "<div class=\"alert alert-block alert-success\">\n",
    " As with the earlier linear model, the random forest model also achieves higher R2 score with the dropped set\n",
    "</div>"
   ]
  },
  {
   "cell_type": "markdown",
   "metadata": {},
   "source": [
    "<div class=\"alert alert-block alert-info\">\n",
    " Performing cross validation\n",
    "</div>"
   ]
  },
  {
   "cell_type": "code",
   "execution_count": 47,
   "metadata": {},
   "outputs": [
    {
     "name": "stdout",
     "output_type": "stream",
     "text": [
      "LR - Cross validation scores for \u001b[4mimputed\u001b[0m and outlier removed data: \n",
      "Scores: [0.7330498  0.75451042 0.74456593 0.74395551 0.76509569]\n",
      "Mean: 0.7482354714032041\n",
      "Standard deviation: 0.010826174294190334 \n",
      "\n",
      "LR - Cross validation scores for \u001b[4mdropped\u001b[0m and outlier removed data: \n",
      "Scores: [0.82387091 0.79093158 0.8148537  0.80137283 0.80570667]\n",
      "Mean: 0.8073471390575895\n",
      "Standard deviation: 0.011289262872246202 \n",
      "\n",
      "RF - Cross validation scores for \u001b[4mimputed\u001b[0m and outlier removed data: \n",
      "Scores: [0.94089931 0.94847434 0.94267543 0.9637044  0.95620546]\n",
      "Mean: 0.9503917854594907\n",
      "Standard deviation: 0.008536397281556809 \n",
      "\n",
      "RF - Cross validation scores for \u001b[4mdropped\u001b[0m and outlier removed data: \n",
      "Scores: [0.94968332 0.94831527 0.936535   0.96049633 0.96538243]\n",
      "Mean: 0.9520824706261326\n",
      "Standard deviation: 0.010093102577210628 \n",
      "\n"
     ]
    }
   ],
   "source": [
    "# cross validation\n",
    "from sklearn.model_selection import cross_val_score\n",
    "\n",
    "def display_scores(scores):\n",
    "    print(\"Scores:\", scores)\n",
    "    print(\"Mean:\", scores.mean())\n",
    "    print(\"Standard deviation:\", scores.std(), '\\n')\n",
    "\n",
    "\n",
    "# linear regression CV\n",
    "\n",
    "# cross validation for imputed and outlier removed data\n",
    "lr = LinearRegression()\n",
    "scores = cross_val_score(lr, X_train_iocs, y_train, cv=5, scoring='r2')\n",
    "\n",
    "print(\"LR - Cross validation scores for \\033[4mimputed\\033[0m and outlier removed data: \")\n",
    "display_scores(scores)\n",
    "\n",
    "# cross validation for dropped and outlier removed data\n",
    "lr = LinearRegression()\n",
    "scores = cross_val_score(lr, X_train_docs, y_train_dropped, cv=5, scoring='r2')\n",
    "\n",
    "print(\"LR - Cross validation scores for \\033[4mdropped\\033[0m and outlier removed data: \")\n",
    "display_scores(scores)\n",
    "\n",
    "\n",
    "# random forest CV\n",
    "\n",
    "# cross validation for imputed and outlier removed data\n",
    "rf1 = RandomForestRegressor(n_estimators=100, random_state=42, max_depth=10)\n",
    "scores = cross_val_score(rf1, X_train_iocs, y_train, cv=5, scoring='r2')\n",
    "\n",
    "print(\"RF - Cross validation scores for \\033[4mimputed\\033[0m and outlier removed data: \")\n",
    "display_scores(scores)\n",
    "\n",
    "# cross validation for dropped and outlier removed data\n",
    "rf1 = RandomForestRegressor(n_estimators=100, random_state=42, max_depth=10)\n",
    "scores = cross_val_score(rf1, X_train_docs, y_train_dropped, cv=5, scoring='r2')\n",
    "\n",
    "print(\"RF - Cross validation scores for \\033[4mdropped\\033[0m and outlier removed data: \")\n",
    "display_scores(scores)"
   ]
  },
  {
   "cell_type": "markdown",
   "metadata": {},
   "source": [
    "<div class=\"alert alert-block alert-success\">\n",
    " Random forest regressor model achieves a 0.95 R2 score on the training set on both sets of training data.\n",
    "</div>"
   ]
  },
  {
   "cell_type": "markdown",
   "metadata": {},
   "source": [
    "<div class=\"alert alert-block alert-info\">\n",
    "    <h3>Section 03 - Tuning<h3>\n",
    "</div>"
   ]
  },
  {
   "cell_type": "markdown",
   "metadata": {},
   "source": [
    "<div class=\"alert alert-block alert-info\">\n",
    "    Let us now use grid search to further tune the hyperparameters of the random forest model and test on the test set\n",
    "</div>"
   ]
  },
  {
   "cell_type": "markdown",
   "metadata": {},
   "source": [
    "<div class=\"alert alert-block alert-info\">\n",
    "    Imputed\n",
    "    </div>"
   ]
  },
  {
   "cell_type": "code",
   "execution_count": 82,
   "metadata": {},
   "outputs": [
    {
     "name": "stdout",
     "output_type": "stream",
     "text": [
      "RF - Grid search for \u001b[4mimputed\u001b[0m and outlier removed data: \n",
      "{'bootstrap': False, 'max_depth': 20, 'max_features': 4, 'n_estimators': 200}\n",
      "RandomForestRegressor(bootstrap=False, max_depth=20, max_features=4,\n",
      "                      n_estimators=200, random_state=42)\n",
      "0.9596288934016795\n",
      "\n",
      "\n"
     ]
    }
   ],
   "source": [
    "# grid search\n",
    "from sklearn.model_selection import GridSearchCV\n",
    "\n",
    "# random forest grid search\n",
    "\n",
    "# imputed\n",
    "param_grid = [ {'n_estimators': [50, 100, 200], 'max_features': [2, 4, 6, 10], 'max_depth': [5, 10, 20]}, {'bootstrap': [False, True], 'n_estimators': [50, 100, 200], 'max_features': [2, 4, 6, 10], 'max_depth': [5, 10, 20]} ]\n",
    "\n",
    "rf = RandomForestRegressor(random_state=42)\n",
    "grid_search = GridSearchCV(rf, param_grid, cv=5, scoring='r2')\n",
    "grid_search.fit(X_train_iocs, y_train)\n",
    "\n",
    "print(\"RF - Grid search for \\033[4mimputed\\033[0m and outlier removed data: \")\n",
    "print(grid_search.best_params_)\n",
    "print(grid_search.best_estimator_)\n",
    "print(grid_search.best_score_)\n",
    "print('\\n')"
   ]
  },
  {
   "cell_type": "markdown",
   "metadata": {},
   "source": [
    "<div class=\"alert alert-block alert-info\">\n",
    "    According to the grid search, max_depth of 20, max_features of 4, n_estimators of 200, achieves the highest training accuracy on the random forest model. Let us get the test accuracy using the best model parameters.\n",
    "    </div>"
   ]
  },
  {
   "cell_type": "code",
   "execution_count": 83,
   "metadata": {},
   "outputs": [
    {
     "name": "stdout",
     "output_type": "stream",
     "text": [
      "RF - R2 score for test data using best params trained on imputed data:  0.8809841670248747\n"
     ]
    }
   ],
   "source": [
    "# predict using best estimator\n",
    "y_pred = grid_search.best_estimator_.predict(X_test_s)\n",
    "\n",
    "print(\"RF - R2 score for test data using best params trained on imputed data: \", r2_score(y_test, y_pred))"
   ]
  },
  {
   "cell_type": "markdown",
   "metadata": {},
   "source": [
    "<div class=\"alert alert-block alert-success\">\n",
    "    The best model trained using imputed train data achieves a R2 score of 0.88 on the test set"
   ]
  },
  {
   "cell_type": "markdown",
   "metadata": {},
   "source": [
    "<div class=\"alert alert-block alert-info\">\n",
    "    Let us now find the best hyperparameter combination on the dropped train data and test the accuracy on the test set"
   ]
  },
  {
   "cell_type": "code",
   "execution_count": 79,
   "metadata": {},
   "outputs": [
    {
     "name": "stdout",
     "output_type": "stream",
     "text": [
      "RF - Grid search for \u001b[4mdropped\u001b[0m and outlier removed data: \n",
      "{'bootstrap': False, 'max_depth': 20, 'max_features': 4, 'n_estimators': 200}\n",
      "RandomForestRegressor(bootstrap=False, max_depth=20, max_features=4,\n",
      "                      n_estimators=200, random_state=42)\n",
      "0.9594002857310315\n",
      "\n",
      "\n"
     ]
    }
   ],
   "source": [
    "# dropped\n",
    "param_grid = [ {'n_estimators': [50, 100, 200], 'max_features': [2, 4, 6, 10], 'max_depth': [5, 10, 20]}, {'bootstrap': [False, True], 'n_estimators': [50, 100, 200], 'max_features': [2, 4, 6, 10], 'max_depth': [5, 10, 20]} ]\n",
    "\n",
    "rf = RandomForestRegressor(random_state=42)\n",
    "grid_search = GridSearchCV(rf, param_grid, cv=5, scoring='r2')\n",
    "grid_search.fit(X_train_docs, y_train_dropped)\n",
    "\n",
    "print(\"RF - Grid search for \\033[4mdropped\\033[0m and outlier removed data: \")\n",
    "print(grid_search.best_params_)\n",
    "print(grid_search.best_estimator_)\n",
    "print(grid_search.best_score_)\n",
    "print('\\n')"
   ]
  },
  {
   "cell_type": "code",
   "execution_count": 81,
   "metadata": {},
   "outputs": [
    {
     "name": "stdout",
     "output_type": "stream",
     "text": [
      "RF - R2 score for test data using best params trained on dropped data:  0.9419565512422168\n"
     ]
    }
   ],
   "source": [
    "# predict using best estimator\n",
    "y_pred = grid_search.best_estimator_.predict(X_test_s)\n",
    "\n",
    "print(\"RF - R2 score for test data using best params trained on dropped data: \", r2_score(y_test, y_pred))"
   ]
  },
  {
   "cell_type": "markdown",
   "metadata": {},
   "source": [
    "<div class=\"alert alert-block alert-success\">\n",
    "    As we can see the best model trained with the dropped train set scores a higher R2 score of 0.94 on the test set\n",
    "    </div>"
   ]
  },
  {
   "cell_type": "markdown",
   "metadata": {},
   "source": [
    "<div class=\"alert alert-block alert-info\">\n",
    "    <h3>Section 04 - Using Best features<h3>\n",
    "</div>"
   ]
  },
  {
   "cell_type": "markdown",
   "metadata": {},
   "source": [
    "<div class=\"alert alert-block alert-info\">\n",
    "    For the final step, let us create a seperate set with first dropping null values, then removing ucorrelated features (since as above removing outliers is unnecessary since most of the outliers are present in uncorrelated features), scaling and testing with best params from random forest model\n",
    "</div>"
   ]
  },
  {
   "cell_type": "code",
   "execution_count": 141,
   "metadata": {},
   "outputs": [
    {
     "name": "stdout",
     "output_type": "stream",
     "text": [
      "RF - R2 score for test data:  0.9730908766957272\n"
     ]
    }
   ],
   "source": [
    "# split\n",
    "X_train_2, X_test_2, y_train_2, y_test_2 = train_test_split(df_features, df_target, test_size=0.2, random_state=42)\n",
    "\n",
    "# drop na\n",
    "X_train_2 = X_train_2.dropna()\n",
    "y_train_2 = y_train_2[X_train_2.index]\n",
    "X_test_2 = X_test_2.dropna()\n",
    "y_test_2 = y_test_2[X_test_2.index]\n",
    "\n",
    "# remove uncorrelated features\n",
    "X_train_2 = X_train_2.drop(['Population', 'Measles', 'Infant_Deaths', 'Under_Five_Deaths', 'Total_Expenditure', 'Hepatitis_B', 'Percentage_Expenditure', 'GDP', 'Alcohol', 'Polio', 'Diphtheria'], axis=1)\n",
    "y_train_2 = y_train_2[X_train_2.index]\n",
    "X_test_2 = X_test_2.drop(['Population', 'Measles', 'Infant_Deaths', 'Under_Five_Deaths', 'Total_Expenditure', 'Hepatitis_B', 'Percentage_Expenditure', 'GDP', 'Alcohol', 'Polio', 'Diphtheria'], axis=1)\n",
    "y_test_2 = y_test_2[X_test_2.index]\n",
    "\n",
    "# scale and categorize\n",
    "scaler2 = StandardScaler()\n",
    "le2 = LabelEncoder()\n",
    "\n",
    "# seperate categorical and numerical features\n",
    "X_train_2_num = X_train_2.drop(['Country', 'Status', 'Year'], axis=1)\n",
    "X_test_2_num = X_test_2.drop(['Country', 'Status', 'Year'], axis=1)\n",
    "\n",
    "X_train_2_num_scaled = scaler.fit_transform(X_train_2_num)\n",
    "X_test_2_num_scaled = scaler.transform(X_test_2_num)\n",
    "\n",
    "X_train_2_cat = X_train_2[['Country', 'Status', 'Year']].apply(le.fit_transform)\n",
    "X_test_2_cat = X_test_2[['Country', 'Status', 'Year']].apply(le.fit_transform)\n",
    "\n",
    "# combine\n",
    "X_train_2 = np.concatenate((X_train_2_cat, X_train_2_num_scaled), axis=1)\n",
    "X_test_2 = np.concatenate((X_test_2_cat, X_test_2_num_scaled), axis=1)\n",
    "\n",
    "# train using best rf params\n",
    "rf3 = RandomForestRegressor(bootstrap=False, max_depth=20, max_features=4, n_estimators=200, random_state=42)\n",
    "rf3.fit(X_train_2, y_train_2)\n",
    "\n",
    "# predict\n",
    "y_pred_2 = rf3.predict(X_test_2)\n",
    "\n",
    "# r2 score\n",
    "print(\"RF - R2 score for test data: \", r2_score(y_test_2, y_pred_2))"
   ]
  },
  {
   "cell_type": "markdown",
   "metadata": {},
   "source": [
    "<div class=\"alert alert-block alert-success\">\n",
    "    As we can see the final R2 score for the best random forest model trained on best correlated features using the dropped null data achives a score of 0.97\n",
    "</div>"
   ]
  }
 ],
 "metadata": {
  "kernelspec": {
   "display_name": "Python 3 (ipykernel)",
   "language": "python",
   "name": "python3"
  },
  "language_info": {
   "codemirror_mode": {
    "name": "ipython",
    "version": 3
   },
   "file_extension": ".py",
   "mimetype": "text/x-python",
   "name": "python",
   "nbconvert_exporter": "python",
   "pygments_lexer": "ipython3",
   "version": "3.10.4"
  }
 },
 "nbformat": 4,
 "nbformat_minor": 2
}
